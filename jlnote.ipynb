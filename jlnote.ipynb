{
 "cells": [
  {
   "cell_type": "markdown",
   "metadata": {},
   "source": [
    "# Julia quick note\n",
    "\n",
    "Note by Peiyuan\n",
    "\n",
    "Established: 230825, the second day I learn Julia\n",
    "\n",
    "This notebook contains the difference between Julia and python. There are so many things we need to pay attention to. "
   ]
  },
  {
   "cell_type": "markdown",
   "metadata": {},
   "source": [
    "### SVD in Julia\n",
    "\n",
    "The svd() in julia returns $V$ but not $V^\\dagger$. To obtain $V^\\dagger$, use `adjoint()`. \n",
    "\n",
    "The hand-written matrix in julia and python is different too. "
   ]
  },
  {
   "cell_type": "code",
   "execution_count": 8,
   "metadata": {},
   "outputs": [
    {
     "data": {
      "text/plain": [
       "4×4 Matrix{Float64}:\n",
       " -0.265991  -0.655171   0.707107      6.32092e-17\n",
       " -0.265991  -0.655171  -0.707107     -4.79043e-17\n",
       " -0.655171   0.265991   1.66533e-16  -0.707107\n",
       " -0.655171   0.265991  -5.55112e-17   0.707107"
      ]
     },
     "metadata": {},
     "output_type": "display_data"
    },
    {
     "data": {
      "text/plain": [
       "4-element Vector{Float64}:\n",
       " 20.120592520354144\n",
       "  1.7781329055694688\n",
       "  7.781005000949367e-17\n",
       "  3.403600530977583e-33"
      ]
     },
     "metadata": {},
     "output_type": "display_data"
    },
    {
     "data": {
      "text/plain": [
       "4×4 adjoint(::Matrix{Float64}) with eltype Float64:\n",
       " -0.352062   0.758981  -0.100829  -0.538362\n",
       " -0.443626   0.321242   0.53571    0.642662\n",
       " -0.53519   -0.116498  -0.768933   0.329762\n",
       " -0.626754  -0.554238   0.334052  -0.434062"
      ]
     },
     "metadata": {},
     "output_type": "display_data"
    },
    {
     "data": {
      "text/plain": [
       "4×4 Matrix{Float64}:\n",
       " -0.352062  -0.443626  -0.53519   -0.626754\n",
       "  0.758981   0.321242  -0.116498  -0.554238\n",
       " -0.100829   0.53571   -0.768933   0.334052\n",
       " -0.538362   0.642662   0.329762  -0.434062"
      ]
     },
     "metadata": {},
     "output_type": "display_data"
    }
   ],
   "source": [
    "using LinearAlgebra\n",
    "\n",
    "M = [1 2 3 4; 1 2 3 4; 5 6 7 8; 5 6 7 8]\n",
    "U,S,V = svd(M)\n",
    "\n",
    "display(U)\n",
    "\n",
    "display(S)\n",
    "\n",
    "display(V)\n",
    "\n",
    "Vd = adjoint(V)\n",
    "display(Vd)"
   ]
  },
  {
   "cell_type": "markdown",
   "metadata": {},
   "source": [
    "### All vectors are colomn vectors\n",
    "Check the self-consistance equation of SVD. "
   ]
  },
  {
   "cell_type": "code",
   "execution_count": 14,
   "metadata": {},
   "outputs": [
    {
     "name": "stdout",
     "output_type": "stream",
     "text": [
      "s * v [1.3495695667640064, 0.571210258079139, -0.20714905060572875, -0.9855083592905958]\n",
      "u * M [1.3495695667640055 0.5712102580791378 -0.20714905060572963 -0.9855083592905975]\n"
     ]
    }
   ],
   "source": [
    "u = U[:, 2]\n",
    "s = S[2]\n",
    "v = Vd[2, :]\n",
    "\n",
    "println(\"s * v \", s * v)\n",
    "println(\"u * M \", u' * M)"
   ]
  },
  {
   "cell_type": "code",
   "execution_count": 15,
   "metadata": {},
   "outputs": [
    {
     "ename": "DimensionMismatch",
     "evalue": "DimensionMismatch: matrix A has dimensions (4,1), matrix B has dimensions (4,4)",
     "output_type": "error",
     "traceback": [
      "DimensionMismatch: matrix A has dimensions (4,1), matrix B has dimensions (4,4)\n",
      "\n",
      "Stacktrace:\n",
      " [1] _generic_matmatmul!(C::Matrix{Float64}, tA::Char, tB::Char, A::Matrix{Float64}, B::Matrix{Int64}, _add::LinearAlgebra.MulAddMul{true, true, Bool, Bool})\n",
      "   @ LinearAlgebra ~/.julia/juliaup/julia-1.9.3+0.x64.linux.gnu/share/julia/stdlib/v1.9/LinearAlgebra/src/matmul.jl:856\n",
      " [2] generic_matmatmul!(C::Matrix{Float64}, tA::Char, tB::Char, A::Matrix{Float64}, B::Matrix{Int64}, _add::LinearAlgebra.MulAddMul{true, true, Bool, Bool})\n",
      "   @ LinearAlgebra ~/.julia/juliaup/julia-1.9.3+0.x64.linux.gnu/share/julia/stdlib/v1.9/LinearAlgebra/src/matmul.jl:844\n",
      " [3] mul!\n",
      "   @ ~/.julia/juliaup/julia-1.9.3+0.x64.linux.gnu/share/julia/stdlib/v1.9/LinearAlgebra/src/matmul.jl:303 [inlined]\n",
      " [4] mul!\n",
      "   @ ~/.julia/juliaup/julia-1.9.3+0.x64.linux.gnu/share/julia/stdlib/v1.9/LinearAlgebra/src/matmul.jl:276 [inlined]\n",
      " [5] *\n",
      "   @ ~/.julia/juliaup/julia-1.9.3+0.x64.linux.gnu/share/julia/stdlib/v1.9/LinearAlgebra/src/matmul.jl:141 [inlined]\n",
      " [6] *(a::Vector{Float64}, B::Matrix{Int64})\n",
      "   @ LinearAlgebra ~/.julia/juliaup/julia-1.9.3+0.x64.linux.gnu/share/julia/stdlib/v1.9/LinearAlgebra/src/matmul.jl:62\n",
      " [7] top-level scope\n",
      "   @ ~/trans/TN_exercise/jlnote.ipynb:2"
     ]
    }
   ],
   "source": [
    "#but we can't u*m:\n",
    "u * M"
   ]
  },
  {
   "cell_type": "markdown",
   "metadata": {},
   "source": [
    "### Get shape of a matrix\n",
    "Simply use `size()`"
   ]
  },
  {
   "cell_type": "code",
   "execution_count": 16,
   "metadata": {},
   "outputs": [
    {
     "name": "stdout",
     "output_type": "stream",
     "text": [
      "矩阵的形状：(3, 4)\n"
     ]
    }
   ],
   "source": [
    "# 创建一个3x4的矩阵\n",
    "A = [1 2 3 4; 5 6 7 8; 9 10 11 12]\n",
    "\n",
    "# 获取矩阵的形状\n",
    "shape = size(A)\n",
    "\n",
    "println(\"矩阵的形状：\", shape)"
   ]
  },
  {
   "cell_type": "code",
   "execution_count": 17,
   "metadata": {},
   "outputs": [
    {
     "data": {
      "text/plain": [
       "Tuple{Int64, Int64}"
      ]
     },
     "metadata": {},
     "output_type": "display_data"
    }
   ],
   "source": [
    "#the shape stored as a tuple\n",
    "typeof(shape)"
   ]
  },
  {
   "cell_type": "markdown",
   "metadata": {},
   "source": [
    "### Multiplication in julia\n",
    "About `*`, `dot()`, and `mul!()`. `Matrix` and `vector`"
   ]
  },
  {
   "cell_type": "code",
   "execution_count": 21,
   "metadata": {},
   "outputs": [
    {
     "data": {
      "text/plain": [
       "4×4 Matrix{Int64}:\n",
       " 2  3  4  5\n",
       " 3  4  5  6\n",
       " 4  5  6  7\n",
       " 5  6  7  8"
      ]
     },
     "metadata": {},
     "output_type": "display_data"
    },
    {
     "data": {
      "text/plain": [
       "1×4 Matrix{Int64}:\n",
       " 1  2  3  4"
      ]
     },
     "metadata": {},
     "output_type": "display_data"
    },
    {
     "data": {
      "text/plain": [
       "4-element Vector{Int64}:\n",
       " 1\n",
       " 2\n",
       " 3\n",
       " 4"
      ]
     },
     "metadata": {},
     "output_type": "display_data"
    },
    {
     "data": {
      "text/plain": [
       "4-element Vector{Int64}:\n",
       " 1\n",
       " 2\n",
       " 3\n",
       " 4"
      ]
     },
     "metadata": {},
     "output_type": "display_data"
    }
   ],
   "source": [
    "A = [i+j for i=1:4, j=1:4]\n",
    "display(A)\n",
    "v1 = [1 2 3 4] #same as a row vector\n",
    "display(v1)\n",
    "v2 = [1;2;3;4] #a 4x1 matrix is 4-element vector\n",
    "display(v2)\n",
    "v3 = [1,2,3,4] #use comma -> vector \n",
    "display(v3)"
   ]
  },
  {
   "cell_type": "code",
   "execution_count": null,
   "metadata": {},
   "outputs": [],
   "source": []
  }
 ],
 "metadata": {
  "kernelspec": {
   "display_name": "Julia 1.9.3",
   "language": "julia",
   "name": "julia-1.9"
  },
  "language_info": {
   "file_extension": ".jl",
   "mimetype": "application/julia",
   "name": "julia",
   "version": "1.9.3"
  },
  "orig_nbformat": 4
 },
 "nbformat": 4,
 "nbformat_minor": 2
}
